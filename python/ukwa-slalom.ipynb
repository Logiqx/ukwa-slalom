{
 "cells": [
  {
   "cell_type": "code",
   "execution_count": 1,
   "id": "magnetic-macro",
   "metadata": {},
   "outputs": [],
   "source": [
    "import os\n",
    "import sys\n",
    "import datetime\n",
    "import glob\n",
    "\n",
    "from bs4 import BeautifulSoup\n",
    "\n",
    "projdir = os.path.realpath(os.path.join(sys.path[0], \"..\"))"
   ]
  },
  {
   "cell_type": "code",
   "execution_count": 2,
   "id": "occasional-ecuador",
   "metadata": {},
   "outputs": [],
   "source": [
    "year = datetime.date.today().year\n",
    "yearPath = os.path.join(projdir, str(year))"
   ]
  },
  {
   "cell_type": "code",
   "execution_count": 3,
   "id": "duplicate-jacket",
   "metadata": {},
   "outputs": [],
   "source": [
    "fleets = {\n",
    "    'pro': 'Pro',\n",
    "    'am': 'Amateur',\n",
    "    'wing': 'Wingfoil',\n",
    "    'pro-foil': 'Lightwind Foil - Pro',\n",
    "    'am-foil': 'Lightwind Foil - Amateur',\n",
    "    'foil': 'Foil',\n",
    "    'lw-foil-form': 'Lightwind Foil - Formula',\n",
    "    'lw-foil-iq': 'Lightwind Foil - IQ',\n",
    "    'lw-foil-free': 'Lightwind Foil - Freeride',\n",
    "    'mb': 'Master Blaster'\n",
    "}"
   ]
  },
  {
   "cell_type": "code",
   "execution_count": 4,
   "id": "careful-glass",
   "metadata": {},
   "outputs": [],
   "source": [
    "def mergeHtmlFiles(path, prefix, title=None):\n",
    "    '''Merge HTML files in a single folder'''\n",
    "\n",
    "    results = None\n",
    "\n",
    "    for fleet in fleets:\n",
    "        htmlPath = os.path.join(path, f'{prefix}-{fleet}.html')\n",
    "        if os.path.exists(htmlPath):\n",
    "            with open(htmlPath, 'r', encoding='utf-8') as htmlFile:\n",
    "                htmlDoc = htmlFile.read()\n",
    "                soup = BeautifulSoup(htmlDoc, 'html.parser')\n",
    "\n",
    "                summaryTitle = soup.find('h3', {'class': 'summarytitle'})\n",
    "                summaryCaption = soup.find('div', {'class': 'summarycaption'})\n",
    "                summaryTable = soup.find('table', {'class': 'summarytable'})\n",
    "\n",
    "                summaryTitle.string = f'{fleets[fleet]} Fleet'\n",
    "\n",
    "                if results is None:\n",
    "                    if title:\n",
    "                        soup.find('h2').string = title\n",
    "                    results = soup\n",
    "                else:\n",
    "                    results.find_all('table', {'class': 'summarytable'})[-1].insert_after(summaryTitle)\n",
    "                    results.find_all('h3', {'class': 'summarytitle'})[-1].insert_after(summaryCaption)\n",
    "                    results.find_all('div', {'class': 'summarycaption'})[-1].insert_after(summaryTable)\n",
    "                \n",
    "    htmlPath = os.path.join(path, f'{prefix}.html')\n",
    "    with open(htmlPath, 'w', encoding='utf-8') as htmlFile:\n",
    "        if results:\n",
    "            print('Refreshing {}...'.format(htmlPath))\n",
    "            htmlFile.write(results.prettify())\n",
    "        else:\n",
    "            print('WARNING: No results for {}'.format(htmlPath))\n",
    "            htmlFile.write('<p>NO RESULTS</p>')"
   ]
  },
  {
   "cell_type": "code",
   "execution_count": 5,
   "id": "downtown-cartoon",
   "metadata": {},
   "outputs": [
    {
     "name": "stdout",
     "output_type": "stream",
     "text": [
      "Refreshing /home/jovyan/work/ukwa-slalom/2022/slalom-rankings.html...\n",
      "Refreshing /home/jovyan/work/ukwa-slalom/2022/slalom1-weymouth/slalom1-weymouth.html...\n",
      "Refreshing /home/jovyan/work/ukwa-slalom/2022/slalom2-littlehampton/slalom2-littlehampton.html...\n",
      "Refreshing /home/jovyan/work/ukwa-slalom/2022/slalom3-lee-on-solent/slalom3-lee-on-solent.html...\n",
      "All done!\n"
     ]
    }
   ],
   "source": [
    "eventId = 'slalom-rankings'\n",
    "mergeHtmlFiles(yearPath, eventId, title='Overall Series')\n",
    "\n",
    "pattern = os.path.join(yearPath, 'slalom*')\n",
    "names = sorted(glob.glob(pattern))\n",
    "for name in names:\n",
    "    if os.path.isdir(name):\n",
    "        eventId = os.path.basename(name)\n",
    "        mergeHtmlFiles(os.path.join(yearPath, eventId), eventId)\n",
    "        \n",
    "print('All done!')"
   ]
  }
 ],
 "metadata": {
  "kernelspec": {
   "display_name": "Python 3 (ipykernel)",
   "language": "python",
   "name": "python3"
  },
  "language_info": {
   "codemirror_mode": {
    "name": "ipython",
    "version": 3
   },
   "file_extension": ".py",
   "mimetype": "text/x-python",
   "name": "python",
   "nbconvert_exporter": "python",
   "pygments_lexer": "ipython3",
   "version": "3.9.7"
  }
 },
 "nbformat": 4,
 "nbformat_minor": 5
}
